{
 "cells": [
  {
   "cell_type": "code",
   "execution_count": 2,
   "metadata": {
    "scrolled": true
   },
   "outputs": [
    {
     "name": "stdout",
     "output_type": "stream",
     "text": [
      "samples_metadata\n",
      "otu\n",
      "samples\n"
     ]
    }
   ],
   "source": [
    "import sqlite3\n",
    "conn = sqlite3.connect('belly_button_biodiversity.sqlite')\n",
    "res = conn.execute(\"SELECT name FROM sqlite_master WHERE type='table';\")\n",
    "for name in res:\n",
    "    print(name[0])\n",
    "        "
   ]
  },
  {
   "cell_type": "code",
   "execution_count": 12,
   "metadata": {},
   "outputs": [
    {
     "name": "stdout",
     "output_type": "stream",
     "text": [
      "['SAMPLEID', 'EVENT', 'ETHNICITY', 'GENDER', 'AGE', 'WFREQ', 'BBTYPE', 'LOCATION', 'COUNTRY012', 'ZIP012', 'COUNTRY1319', 'ZIP1319', 'DOG', 'CAT', 'IMPSURFACE013', 'NPP013', 'MMAXTEMP013', 'PFC013', 'IMPSURFACE1319', 'NPP1319', 'MMAXTEMP1319', 'PFC1319']\n"
     ]
    }
   ],
   "source": [
    "cursor = conn.execute('select * from samples_metadata')\n",
    "names = [description[0] for description in cursor.description]\n",
    "print(names)"
   ]
  },
  {
   "cell_type": "code",
   "execution_count": null,
   "metadata": {
    "collapsed": true
   },
   "outputs": [],
   "source": []
  }
 ],
 "metadata": {
  "kernelspec": {
   "display_name": "Python [conda env:PythonData]",
   "language": "python",
   "name": "conda-env-PythonData-py"
  },
  "language_info": {
   "codemirror_mode": {
    "name": "ipython",
    "version": 3
   },
   "file_extension": ".py",
   "mimetype": "text/x-python",
   "name": "python",
   "nbconvert_exporter": "python",
   "pygments_lexer": "ipython3",
   "version": "3.6.4"
  }
 },
 "nbformat": 4,
 "nbformat_minor": 2
}
